{
 "cells": [
  {
   "cell_type": "code",
   "execution_count": 14,
   "metadata": {},
   "outputs": [
    {
     "name": "stdout",
     "output_type": "stream",
     "text": [
      "11\n",
      "middle-Outz\n",
      "2\n",
      "okffng-Qwvb\n"
     ]
    }
   ],
   "source": [
    "#https://www.hackerrank.com/challenges/caesar-cipher-1/problem\n",
    "\n",
    "def caesarCipher(s, k):\n",
    "    res = []\n",
    "    for i in range(len(s)):\n",
    "        if s[i].isalpha():\n",
    "            base = ord('a') if s[i].islower() else ord('A')\n",
    "            res.append(chr((ord(s[i]) + k - base) % 26 + base))\n",
    "        else:\n",
    "            res.append(s[i])\n",
    "    res = \"\".join(res)\n",
    "    return res;\n",
    "\n",
    "\n",
    "n = int(input())\n",
    "s = input()\n",
    "k = int(input())\n",
    "\n",
    "result = caesarCipher(s, k)\n",
    "print(result)"
   ]
  },
  {
   "cell_type": "code",
   "execution_count": null,
   "metadata": {},
   "outputs": [],
   "source": []
  }
 ],
 "metadata": {
  "kernelspec": {
   "display_name": "Python 3",
   "language": "python",
   "name": "python3"
  },
  "language_info": {
   "codemirror_mode": {
    "name": "ipython",
    "version": 3
   },
   "file_extension": ".py",
   "mimetype": "text/x-python",
   "name": "python",
   "nbconvert_exporter": "python",
   "pygments_lexer": "ipython3",
   "version": "3.8.5"
  }
 },
 "nbformat": 4,
 "nbformat_minor": 2
}
