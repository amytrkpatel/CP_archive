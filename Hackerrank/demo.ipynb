{
 "cells": [
  {
   "cell_type": "code",
   "execution_count": 12,
   "metadata": {},
   "outputs": [
    {
     "name": "stdout",
     "output_type": "stream",
     "text": [
      "1\n",
      "hello   world  lol\n",
      "Hello World Lol\n"
     ]
    }
   ],
   "source": [
    "#Capitalize, python, hackerrank\n",
    "t = int(input())\n",
    "for _ in range(t):\n",
    "    s = input()\n",
    "    s = list(s)\n",
    "    s[0] = s[0].capitalize()\n",
    "    for i in range(1,len(s)):\n",
    "        if s[i].isspace() and s[i+1].isalpha():\n",
    "            s[i+1] = s[i+1].capitalize()\n",
    "    print(\"\".join(s))"
   ]
  },
  {
   "cell_type": "code",
   "execution_count": 6,
   "metadata": {},
   "outputs": [
    {
     "name": "stdout",
     "output_type": "stream",
     "text": [
      "3 2\n",
      "1 5 3\n",
      "3 1\n",
      "5 7\n",
      "1\n"
     ]
    }
   ],
   "source": [
    "#https://www.hackerrank.com/challenges/no-idea/problem?isFullScreen=false\n",
    "\n",
    "if __name__ == '__main__':\n",
    "    n,m = (int(x) for x in input().split())\n",
    "    q = [int(x) for x in input().split()]\n",
    "    A = [int(x) for x in input().split()]\n",
    "    A = set(A)\n",
    "    B = [int(x) for x in input().split()]\n",
    "    B = set(B)\n",
    "    \n",
    "    happiness = 0\n",
    "    \n",
    "    for i in q:\n",
    "        if i in A:\n",
    "            happiness += 1\n",
    "        elif i in B:\n",
    "            happiness -= 1\n",
    "    \n",
    "    print(happiness)"
   ]
  },
  {
   "cell_type": "code",
   "execution_count": 12,
   "metadata": {},
   "outputs": [
    {
     "name": "stdout",
     "output_type": "stream",
     "text": [
      "7\n",
      "uk\n",
      "india\n",
      "usa\n",
      "france\n",
      "germany\n",
      "india\n",
      "russia\n",
      "6\n"
     ]
    }
   ],
   "source": [
    "#https://www.hackerrank.com/challenges/py-set-add/problem\n",
    "if __name__ == '__main__':\n",
    "    n = int(input())\n",
    "    stamps = set()\n",
    "    for i in range(0,n):\n",
    "        stamps.add(input())\n",
    "    print(len(stamps))"
   ]
  },
  {
   "cell_type": "code",
   "execution_count": 27,
   "metadata": {},
   "outputs": [],
   "source": [
    "#Spy Game\n",
    "def spy_game(num):\n",
    "    order = [0, 0, 7]\n",
    "    for i in num:\n",
    "        if i == order[0]:\n",
    "            x = order.pop()\n",
    "            print(x)\n",
    "    "
   ]
  },
  {
   "cell_type": "code",
   "execution_count": 28,
   "metadata": {},
   "outputs": [
    {
     "name": "stdout",
     "output_type": "stream",
     "text": [
      "[0]\n",
      "None\n"
     ]
    }
   ],
   "source": [
    "print(spy_game([1,2,4,0,0,7,5]))\n",
    "#print(spy_game([1,0,2,4,0,5,7]))\n",
    "#print(spy_game([1,7,2,0,4,5,0]))"
   ]
  },
  {
   "cell_type": "code",
   "execution_count": 7,
   "metadata": {},
   "outputs": [
    {
     "name": "stdout",
     "output_type": "stream",
     "text": [
      "17\n",
      "    1     1     1     1\n",
      "    2     2     2    10\n",
      "    3     3     3    11\n",
      "    4     4     4   100\n",
      "    5     5     5   101\n",
      "    6     6     6   110\n",
      "    7     7     7   111\n",
      "    8    10     8  1000\n",
      "    9    11     9  1001\n",
      "   10    12     A  1010\n",
      "   11    13     B  1011\n",
      "   12    14     C  1100\n",
      "   13    15     D  1101\n",
      "   14    16     E  1110\n",
      "   15    17     F  1111\n",
      "   16    20    10 10000\n",
      "   17    21    11 10001\n"
     ]
    }
   ],
   "source": [
    "#https://www.hackerrank.com/challenges/python-string-formatting/problem?isFullScreen=true\n",
    "def print_formatted(number):\n",
    "    w = len(\"{0:b}\".format(n))\n",
    "    for i in range(1,n+1):\n",
    "        print (\"{0:{width}d} {0:{width}o} {0:{width}X} {0:{width}b}\".format(i, width=w))\n",
    "\n",
    "\n",
    "if __name__ == '__main__':\n",
    "    n = int(input())\n",
    "    print_formatted(n)"
   ]
  },
  {
   "cell_type": "code",
   "execution_count": null,
   "metadata": {},
   "outputs": [],
   "source": []
  }
 ],
 "metadata": {
  "kernelspec": {
   "display_name": "Python 3",
   "language": "python",
   "name": "python3"
  },
  "language_info": {
   "codemirror_mode": {
    "name": "ipython",
    "version": 3
   },
   "file_extension": ".py",
   "mimetype": "text/x-python",
   "name": "python",
   "nbconvert_exporter": "python",
   "pygments_lexer": "ipython3",
   "version": "3.7.4"
  }
 },
 "nbformat": 4,
 "nbformat_minor": 2
}
