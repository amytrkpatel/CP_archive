{
 "cells": [
  {
   "cell_type": "markdown",
   "id": "b702cef1",
   "metadata": {},
   "source": [
    "#### Is Subsequence\n",
    "\n",
    "Problem Link: https://leetcode.com/problems/is-subsequence/\n",
    "\n",
    "Given two strings s and t, return true if s is a subsequence of t, or false otherwise."
   ]
  },
  {
   "cell_type": "code",
   "execution_count": 12,
   "id": "4e030f8e",
   "metadata": {},
   "outputs": [
    {
     "name": "stdout",
     "output_type": "stream",
     "text": [
      "1\n",
      "amit\n",
      "mi\n",
      "False\n"
     ]
    }
   ],
   "source": [
    "def isSubsequence(s: str, t: str) -> bool:\n",
    "    if not s:\n",
    "        return True\n",
    "    s = list(s)\n",
    "    for alphabet in t:\n",
    "        if alphabet == s[0]:\n",
    "            s.remove(s[0])\n",
    "        if not s:\n",
    "            return True\n",
    "    return False\n",
    "            \n",
    "\n",
    "#Driver code\n",
    "if __name__==\"__main__\":\n",
    "    t = int(input())\n",
    "    for _ in range(t):\n",
    "        s = input()\n",
    "        c = input()\n",
    "        print(isSubsequence(s,c))"
   ]
  },
  {
   "cell_type": "code",
   "execution_count": null,
   "id": "95d4f726",
   "metadata": {},
   "outputs": [],
   "source": []
  }
 ],
 "metadata": {
  "kernelspec": {
   "display_name": "Python 3 (ipykernel)",
   "language": "python",
   "name": "python3"
  },
  "language_info": {
   "codemirror_mode": {
    "name": "ipython",
    "version": 3
   },
   "file_extension": ".py",
   "mimetype": "text/x-python",
   "name": "python",
   "nbconvert_exporter": "python",
   "pygments_lexer": "ipython3",
   "version": "3.9.12"
  }
 },
 "nbformat": 4,
 "nbformat_minor": 5
}
