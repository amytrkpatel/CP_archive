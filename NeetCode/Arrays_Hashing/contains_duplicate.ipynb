{
 "cells": [
  {
   "cell_type": "markdown",
   "metadata": {},
   "source": [
    "### Contains Duplicate\n",
    "\n",
    "Problem Link :> https://leetcode.com/problems/contains-duplicate/\n",
    "\n",
    "Given an integer array nums, return true if any value appears at least twice in the array, and return false if every element is distinct."
   ]
  },
  {
   "cell_type": "markdown",
   "metadata": {},
   "source": [
    "#### Approach1:\n",
    "Counting the frequency of each character and as soon as one of them registers as occuring atleast twice, return True "
   ]
  },
  {
   "cell_type": "code",
   "execution_count": null,
   "metadata": {},
   "outputs": [],
   "source": [
    "def contains_duplicate(num):\n",
    "    # * initializing a dictionary\n",
    "    dctnry = {num[val] : 0 for val in range(0, len(num))}\n",
    "\n",
    "    # * counting frequency\n",
    "    for val in num:\n",
    "        dctnry[val] += 1\n",
    "\n",
    "        # * checking if any element occurs atleast twice\n",
    "        if(dctnry[val] >= 2):\n",
    "            return True\n",
    "    return False\n",
    "\n",
    "# Driver code\n",
    "if __name__==\"__main__\":\n",
    "    t = int(input())\n",
    "    nums = []\n",
    "    for _ in range(t):\n",
    "        nums = list(map(int,input().split())) # ! for taking single line space separated ints\n",
    "    \n",
    "    print(contains_duplicate(nums))"
   ]
  },
  {
   "cell_type": "markdown",
   "metadata": {},
   "source": [
    "#### Neetcode solution:"
   ]
  },
  {
   "cell_type": "code",
   "execution_count": null,
   "metadata": {},
   "outputs": [],
   "source": [
    "def contains_duplicate(nums: List[int]) -> bool:\n",
    "    hashset = set()\n",
    "    \n",
    "    for n in nums:\n",
    "        if n in hashset:\n",
    "            return True\n",
    "        hashset.add(n)\n",
    "    return False\n",
    "\n",
    "# Driver code\n",
    "if __name__==\"__main__\":\n",
    "    t = int(input())\n",
    "    nums = []\n",
    "    for _ in range(t):\n",
    "        nums = list(map(int,input().split())) # ! for taking single line space separated ints\n",
    "    \n",
    "    print(contains_duplicate(nums))"
   ]
  }
 ],
 "metadata": {
  "kernelspec": {
   "display_name": "Python 3.10.4 64-bit",
   "language": "python",
   "name": "python3"
  },
  "language_info": {
   "name": "python",
   "version": "3.10.4"
  },
  "orig_nbformat": 4,
  "vscode": {
   "interpreter": {
    "hash": "26de051ba29f2982a8de78e945f0abaf191376122a1563185a90213a26c5da77"
   }
  }
 },
 "nbformat": 4,
 "nbformat_minor": 2
}
