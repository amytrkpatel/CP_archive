{
 "cells": [
  {
   "cell_type": "markdown",
   "metadata": {},
   "source": [
    "Problem Link: https://leetcode.com/problems/valid-anagram/"
   ]
  },
  {
   "cell_type": "markdown",
   "metadata": {},
   "source": [
    "#### Approach 1: summing up the frequency of all letters in s & t and matching them\n",
    "\n",
    "FAILED: cat & rat would be 3, but not anagrams"
   ]
  },
  {
   "cell_type": "code",
   "execution_count": null,
   "metadata": {},
   "outputs": [],
   "source": [
    "def is_anagram(s: str, t: str) -> bool:\n",
    "    \n",
    "    dict_s = {s[i]:0 for i in range(0, len(s))}\n",
    "    \n",
    "    for i in s:\n",
    "        dict_s[i] += 1\n",
    "    \n",
    "    dict_t = {t[j]:0 for j in range(0, len(t))}\n",
    "\n",
    "    for j in t:\n",
    "        dict_t[j] += 1\n",
    "    \n",
    "    if sum(dict_s.values()) == sum(dict_t.values()):\n",
    "        return True\n",
    "    return False"
   ]
  },
  {
   "cell_type": "markdown",
   "metadata": {},
   "source": [
    "#### Approach 2: Matching the frequency of each individual key-value pair"
   ]
  },
  {
   "cell_type": "code",
   "execution_count": null,
   "metadata": {},
   "outputs": [],
   "source": [
    "def is_anagram(s: str, t: str) -> bool:\n",
    "    if len(s) != len(t):\n",
    "        return False\n",
    "    \n",
    "    dict_s = {s[i]:0 for i in range(0, len(s))}\n",
    "        \n",
    "    for i in s:\n",
    "        dict_s[i] += 1\n",
    "    \n",
    "    dict_t = {t[j]:0 for j in range(0, len(t))}\n",
    "\n",
    "    for j in t:\n",
    "        dict_t[j] += 1\n",
    "    try:\n",
    "        for key, val in dict_s.items():\n",
    "            if dict_s[key] != dict_t[key]:\n",
    "                return False\n",
    "        return True\n",
    "    except Exception:\n",
    "        return False"
   ]
  },
  {
   "cell_type": "markdown",
   "metadata": {},
   "source": [
    "#### Approach 3: sort the strings and match\n",
    "LAME Approach"
   ]
  },
  {
   "cell_type": "code",
   "execution_count": null,
   "metadata": {},
   "outputs": [],
   "source": [
    "def is_anagram(s: str, t: str) -> bool:\n",
    "    \n",
    "    s = sorted(s)\n",
    "    t = sorted(t)\n",
    "\n",
    "    if s == t:\n",
    "        return True\n",
    "    return False"
   ]
  },
  {
   "cell_type": "markdown",
   "metadata": {},
   "source": [
    "#### Neetcode Solution"
   ]
  },
  {
   "cell_type": "code",
   "execution_count": 1,
   "metadata": {},
   "outputs": [
    {
     "ename": "ValueError",
     "evalue": "invalid literal for int() with base 10: ''",
     "output_type": "error",
     "traceback": [
      "\u001b[1;31m---------------------------------------------------------------------------\u001b[0m",
      "\u001b[1;31mValueError\u001b[0m                                Traceback (most recent call last)",
      "\u001b[1;32mc:\\Users\\akumarpatel\\Workspaces\\CP_archive\\NeetCode\\Arrays_Hashing\\valid_anagram.ipynb Cell 9\u001b[0m in \u001b[0;36m<cell line: 16>\u001b[1;34m()\u001b[0m\n\u001b[0;32m     <a href='vscode-notebook-cell:/c%3A/Users/akumarpatel/Workspaces/CP_archive/NeetCode/Arrays_Hashing/valid_anagram.ipynb#X11sZmlsZQ%3D%3D?line=14'>15</a>\u001b[0m \u001b[39m# ? Driver code\u001b[39;00m\n\u001b[0;32m     <a href='vscode-notebook-cell:/c%3A/Users/akumarpatel/Workspaces/CP_archive/NeetCode/Arrays_Hashing/valid_anagram.ipynb#X11sZmlsZQ%3D%3D?line=15'>16</a>\u001b[0m \u001b[39mif\u001b[39;00m \u001b[39m__name__\u001b[39m\u001b[39m==\u001b[39m\u001b[39m\"\u001b[39m\u001b[39m__main__\u001b[39m\u001b[39m\"\u001b[39m:\n\u001b[1;32m---> <a href='vscode-notebook-cell:/c%3A/Users/akumarpatel/Workspaces/CP_archive/NeetCode/Arrays_Hashing/valid_anagram.ipynb#X11sZmlsZQ%3D%3D?line=16'>17</a>\u001b[0m     t \u001b[39m=\u001b[39m \u001b[39mint\u001b[39;49m(\u001b[39minput\u001b[39;49m())\n\u001b[0;32m     <a href='vscode-notebook-cell:/c%3A/Users/akumarpatel/Workspaces/CP_archive/NeetCode/Arrays_Hashing/valid_anagram.ipynb#X11sZmlsZQ%3D%3D?line=17'>18</a>\u001b[0m     \u001b[39mfor\u001b[39;00m _ \u001b[39min\u001b[39;00m \u001b[39mrange\u001b[39m(t):\n\u001b[0;32m     <a href='vscode-notebook-cell:/c%3A/Users/akumarpatel/Workspaces/CP_archive/NeetCode/Arrays_Hashing/valid_anagram.ipynb#X11sZmlsZQ%3D%3D?line=18'>19</a>\u001b[0m         string1 \u001b[39m=\u001b[39m \u001b[39minput\u001b[39m()\n",
      "\u001b[1;31mValueError\u001b[0m: invalid literal for int() with base 10: ''"
     ]
    }
   ],
   "source": [
    "def isAnagram(s: str, t: str) -> bool:\n",
    "    if len(s) != len(t):\n",
    "        return False\n",
    "    \n",
    "    countS, countT = {}, {}\n",
    "    \n",
    "    for i in range(len(s)):\n",
    "        countS[s[i]] = 1 + countS.get(s[i], 0)\n",
    "        countT[t[i]] = 1 + countT.get(t[i], 0)\n",
    "    for c in countS:\n",
    "        if countS[c] != countT.get(c, 0):\n",
    "            return False\n",
    "    return True\n",
    "\n",
    "# ? Driver code\n",
    "if __name__==\"__main__\":\n",
    "    t = int(input())\n",
    "    for _ in range(t):\n",
    "        string1 = input()\n",
    "        string2 = input()\n",
    "        print(is_anagram(string1, string2))"
   ]
  }
 ],
 "metadata": {
  "kernelspec": {
   "display_name": "Python 3.10.4 64-bit",
   "language": "python",
   "name": "python3"
  },
  "language_info": {
   "codemirror_mode": {
    "name": "ipython",
    "version": 3
   },
   "file_extension": ".py",
   "mimetype": "text/x-python",
   "name": "python",
   "nbconvert_exporter": "python",
   "pygments_lexer": "ipython3",
   "version": "3.10.4"
  },
  "orig_nbformat": 4,
  "vscode": {
   "interpreter": {
    "hash": "26de051ba29f2982a8de78e945f0abaf191376122a1563185a90213a26c5da77"
   }
  }
 },
 "nbformat": 4,
 "nbformat_minor": 2
}
