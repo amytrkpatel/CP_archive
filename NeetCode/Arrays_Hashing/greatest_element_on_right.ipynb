{
 "cells": [
  {
   "cell_type": "markdown",
   "metadata": {},
   "source": [
    "### Replace Elements with Greatest Element on Right Side\n",
    "\n",
    "Problem Link :> https://leetcode.com/problems/replace-elements-with-greatest-element-on-right-side/"
   ]
  },
  {
   "cell_type": "markdown",
   "metadata": {},
   "source": [
    "#### Method 1: plain brute force O(n^2) approach (SLOW)\n",
    "Traversing the array from one side and for each element traversing the rest of the array."
   ]
  },
  {
   "cell_type": "code",
   "execution_count": 13,
   "metadata": {},
   "outputs": [
    {
     "name": "stdout",
     "output_type": "stream",
     "text": [
      "[18, 6, 6, 6, 1, -1]\n"
     ]
    }
   ],
   "source": [
    "def replace_greatest_right(arr: list[int]) -> list[int]:\n",
    "    max = -1\n",
    "    if len(arr) <= 1:\n",
    "        arr[0] = max\n",
    "    else:\n",
    "        for i in range(len(arr)):\n",
    "            for j in range(i+1, len(arr)):\n",
    "                if arr[j] > max:\n",
    "                    max = arr[j]\n",
    "            arr[i] = max\n",
    "            max = -1\n",
    "    return arr\n",
    "\n",
    "#Driver code\n",
    "if __name__==\"__main__\":\n",
    "    t = int(input())\n",
    "    for _ in range(t):\n",
    "        arr: list[int] = [int(x) for x in input().split()]\n",
    "        print(replace_greatest_right(arr))"
   ]
  },
  {
   "cell_type": "markdown",
   "metadata": {},
   "source": [
    "#### Method 2: Traversing Backwards and comparing\n",
    "Single loop O(N) solution\n"
   ]
  },
  {
   "cell_type": "code",
   "execution_count": 19,
   "metadata": {},
   "outputs": [
    {
     "name": "stdout",
     "output_type": "stream",
     "text": [
      "[18, 6, 6, 6, 1, -1]\n"
     ]
    }
   ],
   "source": [
    "def replace_greatest_right(arr: list[int]) -> list[int]:\n",
    "    max = -1\n",
    "    for i in range(len(arr)-1, -1, -1):\n",
    "        element = arr[i]\n",
    "        arr[i] = max\n",
    "        if(element > max):\n",
    "            max = element\n",
    "    return arr\n",
    "\n",
    "#Driver code\n",
    "if __name__==\"__main__\":\n",
    "    t = int(input())\n",
    "    for _ in range(t):\n",
    "        arr: list[int] = [int(x) for x in input().split()]\n",
    "        print(replace_greatest_right(arr))"
   ]
  }
 ],
 "metadata": {
  "kernelspec": {
   "display_name": "Python 3.10.4 64-bit",
   "language": "python",
   "name": "python3"
  },
  "language_info": {
   "codemirror_mode": {
    "name": "ipython",
    "version": 3
   },
   "file_extension": ".py",
   "mimetype": "text/x-python",
   "name": "python",
   "nbconvert_exporter": "python",
   "pygments_lexer": "ipython3",
   "version": "3.10.4"
  },
  "orig_nbformat": 4,
  "vscode": {
   "interpreter": {
    "hash": "26de051ba29f2982a8de78e945f0abaf191376122a1563185a90213a26c5da77"
   }
  }
 },
 "nbformat": 4,
 "nbformat_minor": 2
}
