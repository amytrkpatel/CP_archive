{
 "cells": [
  {
   "cell_type": "code",
   "execution_count": 9,
   "metadata": {},
   "outputs": [
    {
     "name": "stdout",
     "output_type": "stream",
     "text": [
      "4\n",
      "A B 3-2\n",
      "A C 4-2\n",
      "A D 0-2\n",
      "B C 3-1\n",
      "B D 3-5\n",
      "C D 2-2\n",
      "D\n",
      "7\n"
     ]
    }
   ],
   "source": [
    "def main():\n",
    "    t = int(input())\n",
    "    n = (t*(t-1))//2\n",
    "    tab = dict()\n",
    "    for _ in range(n):\n",
    "        match = list(input())\n",
    "\n",
    "        if match[0] not in tab:\n",
    "            tab[match[0]] = 0\n",
    "        if match[2] not in tab:\n",
    "            tab[match[2]] = 0\n",
    "\n",
    "        if match[0] and match[2] in tab:\n",
    "            if int(match[4]) > int(match[6]):\n",
    "                tab[match[0]] += 3\n",
    "            elif match[4] < match[6]:\n",
    "                tab[match[2]] += 3\n",
    "            else:\n",
    "                tab[match[0]] += 1\n",
    "                tab[match[2]] += 1\n",
    "\n",
    "    result = max(tab, key=tab.get)\n",
    "    print(result)\n",
    "    print(tab[result])\n",
    "\n",
    "\n",
    "if __name__ == \"__main__\":\n",
    "    main()"
   ]
  },
  {
   "cell_type": "code",
   "execution_count": null,
   "metadata": {},
   "outputs": [],
   "source": []
  },
  {
   "cell_type": "code",
   "execution_count": null,
   "metadata": {},
   "outputs": [],
   "source": []
  }
 ],
 "metadata": {
  "kernelspec": {
   "display_name": "Python 3",
   "language": "python",
   "name": "python3"
  },
  "language_info": {
   "codemirror_mode": {
    "name": "ipython",
    "version": 3
   },
   "file_extension": ".py",
   "mimetype": "text/x-python",
   "name": "python",
   "nbconvert_exporter": "python",
   "pygments_lexer": "ipython3",
   "version": "3.8.3"
  }
 },
 "nbformat": 4,
 "nbformat_minor": 4
}
