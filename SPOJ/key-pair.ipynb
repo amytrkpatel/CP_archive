{
 "cells": [
  {
   "cell_type": "code",
   "execution_count": 30,
   "metadata": {},
   "outputs": [
    {
     "name": "stdout",
     "output_type": "stream",
     "text": [
      "1\n",
      "5 4\n",
      "1 2 5 6 7\n",
      "{1: 3, 2: 2, 5: -1, 6: -2, 7: -3}\n",
      "No\n"
     ]
    }
   ],
   "source": [
    "def check_duplicate(val,a):\n",
    "    ctr = 0\n",
    "    for i in a: \n",
    "        if(i == val):\n",
    "            ctr = ctr + 1\n",
    "    return ctr\n",
    "\n",
    "\n",
    "t = int(input())\n",
    "for _ in range(t):\n",
    "    n, s = [int(j) for j in input().split()]\n",
    "    \n",
    "    A = [int(a) for a in input().split()]\n",
    "    dictA = {A[i]: 0 for i in range(0, len(A))}\n",
    "    \n",
    "    for i in A:\n",
    "        dictA[i] = s - i\n",
    "        \n",
    "    print(dictA)\n",
    "    \n",
    "    flag = 0\n",
    "    \n",
    "    for key, value in dictA.items():\n",
    "        if key == value:\n",
    "            counter = check_duplicate(value,A)\n",
    "            if counter >= 2:\n",
    "                print('Yes')\n",
    "                print(key,':',value)\n",
    "                flag = 1\n",
    "                break\n",
    "        else:\n",
    "            if (value in A):\n",
    "                print('Yes')\n",
    "                print(key,':',value)\n",
    "                flag = 1\n",
    "                break\n",
    "        \n",
    "    if flag == 0:\n",
    "        print('No')"
   ]
  },
  {
   "cell_type": "code",
   "execution_count": 2,
   "metadata": {},
   "outputs": [
    {
     "name": "stdout",
     "output_type": "stream",
     "text": [
      "1\n",
      "1\n"
     ]
    },
    {
     "ename": "NameError",
     "evalue": "name 'size' is not defined",
     "output_type": "error",
     "traceback": [
      "\u001b[1;31m---------------------------------------------------------------------------\u001b[0m",
      "\u001b[1;31mNameError\u001b[0m                                 Traceback (most recent call last)",
      "\u001b[1;32m<ipython-input-2-1ce646b5cd50>\u001b[0m in \u001b[0;36m<module>\u001b[1;34m\u001b[0m\n\u001b[0;32m      6\u001b[0m         \u001b[0mctr\u001b[0m \u001b[1;33m=\u001b[0m \u001b[0mctr\u001b[0m \u001b[1;33m+\u001b[0m \u001b[1;36m1\u001b[0m\u001b[1;33m\u001b[0m\u001b[1;33m\u001b[0m\u001b[0m\n\u001b[0;32m      7\u001b[0m \u001b[0mprint\u001b[0m\u001b[1;33m(\u001b[0m\u001b[0mctr\u001b[0m\u001b[1;33m)\u001b[0m\u001b[1;33m\u001b[0m\u001b[1;33m\u001b[0m\u001b[0m\n\u001b[1;32m----> 8\u001b[1;33m \u001b[0mprint\u001b[0m\u001b[1;33m(\u001b[0m\u001b[0msize\u001b[0m\u001b[1;33m(\u001b[0m\u001b[0mA\u001b[0m\u001b[1;33m)\u001b[0m\u001b[1;33m)\u001b[0m\u001b[1;33m\u001b[0m\u001b[1;33m\u001b[0m\u001b[0m\n\u001b[0m",
      "\u001b[1;31mNameError\u001b[0m: name 'size' is not defined"
     ]
    }
   ],
   "source": [
    "A = [1,2,2,6,7]\n",
    "ctr = 0\n",
    "value = int(input())\n",
    "for i in A: \n",
    "    if(i == value):\n",
    "        ctr = ctr + 1\n",
    "print(ctr)"
   ]
  },
  {
   "cell_type": "code",
   "execution_count": null,
   "metadata": {},
   "outputs": [],
   "source": []
  }
 ],
 "metadata": {
  "kernelspec": {
   "display_name": "Python 3",
   "language": "python",
   "name": "python3"
  },
  "language_info": {
   "codemirror_mode": {
    "name": "ipython",
    "version": 3
   },
   "file_extension": ".py",
   "mimetype": "text/x-python",
   "name": "python",
   "nbconvert_exporter": "python",
   "pygments_lexer": "ipython3",
   "version": "3.7.4"
  }
 },
 "nbformat": 4,
 "nbformat_minor": 2
}
