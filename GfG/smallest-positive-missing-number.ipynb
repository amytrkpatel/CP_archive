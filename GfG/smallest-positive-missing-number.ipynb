{
 "cells": [
  {
   "cell_type": "markdown",
   "metadata": {},
   "source": [
    "https://practice.geeksforgeeks.org/problems/smallest-positive-missing-number-1587115621/1"
   ]
  },
  {
   "cell_type": "code",
   "execution_count": 9,
   "metadata": {},
   "outputs": [
    {
     "name": "stdout",
     "output_type": "stream",
     "text": [
      "1\n",
      "5\n",
      "0 -8 -10 4 9\n",
      "[-10, -8, 0, 4, 9]\n"
     ]
    }
   ],
   "source": [
    "t = int(input())\n",
    "for _ in range(t):\n",
    "\tn = int(input())\n",
    "\tx = [int(x) for x in input().split()]\n",
    "\tx.sort()\n",
    "    \n",
    "    \n",
    "\tprint(x)"
   ]
  },
  {
   "cell_type": "code",
   "execution_count": 12,
   "metadata": {},
   "outputs": [
    {
     "name": "stdout",
     "output_type": "stream",
     "text": [
      "1\n",
      "5\n",
      "1 2 3 4 5\n",
      "6\n"
     ]
    }
   ],
   "source": [
    "t = int(input())\n",
    "for _ in range(t):\n",
    "    n = int(input())\n",
    "    arr = [int(i) for i in input().split()]\n",
    "    maxx = max(arr)\n",
    "    flag = 0\n",
    "    if maxx <= 0:\n",
    "        print(1)\n",
    "    else:\n",
    "        for i in range(1, maxx+1):\n",
    "            if i not in arr:\n",
    "                flag = 1\n",
    "                print(i)\n",
    "                break\n",
    "    if flag == 0:\n",
    "        print(maxx+1)"
   ]
  },
  {
   "cell_type": "code",
   "execution_count": null,
   "metadata": {},
   "outputs": [],
   "source": []
  }
 ],
 "metadata": {
  "kernelspec": {
   "display_name": "Python 3",
   "language": "python",
   "name": "python3"
  },
  "language_info": {
   "codemirror_mode": {
    "name": "ipython",
    "version": 3
   },
   "file_extension": ".py",
   "mimetype": "text/x-python",
   "name": "python",
   "nbconvert_exporter": "python",
   "pygments_lexer": "ipython3",
   "version": "3.8.3"
  }
 },
 "nbformat": 4,
 "nbformat_minor": 2
}
