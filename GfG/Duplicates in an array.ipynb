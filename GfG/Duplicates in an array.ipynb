{
 "cells": [
  {
   "cell_type": "markdown",
   "metadata": {},
   "source": [
    "https://www.geeksforgeeks.org/duplicates-array-using-o1-extra-space-set-2/"
   ]
  },
  {
   "cell_type": "code",
   "execution_count": 2,
   "metadata": {},
   "outputs": [
    {
     "name": "stdout",
     "output_type": "stream",
     "text": [
      "1 3 4 4 3\n",
      "{1: 0, 3: 0, 4: 0}\n",
      "{1: 1, 3: 2, 4: 2}\n",
      "3\n"
     ]
    }
   ],
   "source": [
    "lst = [int(lst) for lst in input().split()]\n",
    "dct = {i:0 for i in lst}\n",
    "print(dct)\n",
    "for i in lst:\n",
    "    dct[i] += 1 #counting frequency of each element in a list\n",
    "\n",
    "print(dct)\n",
    "\n",
    "for key, value in dct.items():\n",
    "    if value >= 2:\n",
    "        print(key)\n",
    "        break"
   ]
  },
  {
   "cell_type": "code",
   "execution_count": null,
   "metadata": {},
   "outputs": [],
   "source": []
  }
 ],
 "metadata": {
  "kernelspec": {
   "display_name": "Python 3",
   "language": "python",
   "name": "python3"
  },
  "language_info": {
   "codemirror_mode": {
    "name": "ipython",
    "version": 3
   },
   "file_extension": ".py",
   "mimetype": "text/x-python",
   "name": "python",
   "nbconvert_exporter": "python",
   "pygments_lexer": "ipython3",
   "version": "3.8.3"
  }
 },
 "nbformat": 4,
 "nbformat_minor": 4
}
