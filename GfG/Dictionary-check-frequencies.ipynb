{
 "cells": [
  {
   "cell_type": "markdown",
   "metadata": {},
   "source": [
    "Link: https://www.geeksforgeeks.org/counting-the-frequencies-in-a-list-using-dictionary-in-python/"
   ]
  },
  {
   "cell_type": "code",
   "execution_count": 18,
   "metadata": {},
   "outputs": [
    {
     "name": "stdout",
     "output_type": "stream",
     "text": [
      "1\n",
      "crg\n",
      "{'c': 1, 'r': 1, 'g': 1}\n",
      "c\n",
      "its Frequency:  1\n",
      "0\n"
     ]
    }
   ],
   "source": [
    "t = int(input())\n",
    "for _ in range(t):\n",
    "    s = list(input())\n",
    "    \n",
    "    a_dct = {s[i]: 0 for i in range(0, len(s))}\n",
    "    \n",
    "    for i in s:\n",
    "        a_dct[i] += 1\n",
    "        \n",
    "    print(a_dct)\n",
    "    \n",
    "    freq_element = max(a_dct, key = a_dct.get)\n",
    "    print(freq_element)\n",
    "    print('its Frequency: ', a_dct[freq_element])\n",
    "    \n",
    "    count = 0\n",
    "    for key, value in a_dct.items():\n",
    "        if a_dct[freq_element] - 1 == value:\n",
    "            count = count + 1\n",
    "    \n",
    "    if count == len(a_dct)-1:\n",
    "        print(1)\n",
    "    else:\n",
    "        print(0)"
   ]
  },
  {
   "cell_type": "code",
   "execution_count": 1,
   "metadata": {},
   "outputs": [
    {
     "ename": "IndentationError",
     "evalue": "expected an indented block (<ipython-input-1-73f7350b5cc6>, line 23)",
     "output_type": "error",
     "traceback": [
      "\u001b[1;36m  File \u001b[1;32m\"<ipython-input-1-73f7350b5cc6>\"\u001b[1;36m, line \u001b[1;32m23\u001b[0m\n\u001b[1;33m    print(1)\u001b[0m\n\u001b[1;37m        ^\u001b[0m\n\u001b[1;31mIndentationError\u001b[0m\u001b[1;31m:\u001b[0m expected an indented block\n"
     ]
    }
   ],
   "source": [
    "for _ in range(int(input())):\n",
    "    s = input()\n",
    "    a = [x for x in s]\n",
    "    b = {}\n",
    "    c = []\n",
    "    for x in range(len(a)):\n",
    "        if a[x] in b:\n",
    "            b[a[x]]+=1\n",
    "        else:\n",
    "            b[a[x]]=1\n",
    "    \n",
    "    for x in b:\n",
    "        c.append(b[x])\n",
    "    \n",
    "    c.sort()\n",
    "    n = len(c)-1\n",
    "    \n",
    "    if len(c)>0:\n",
    "        if c[n]==c[0]:\n",
    "            print(1)\n",
    "        else:\n",
    "            if c[0]==1 and c[1]==c[n]:\n",
    "            print(1)\n",
    "        else:\n",
    "    if c[n] == c[n-1]:\n",
    "    print(0)\n",
    "    else:\n",
    "    if c[n]-c[0]==1:\n",
    "    print(1)\n",
    "    else:\n",
    "    print(0)\n",
    "    else:\n",
    "    print(1)"
   ]
  },
  {
   "cell_type": "code",
   "execution_count": 13,
   "metadata": {
    "scrolled": true
   },
   "outputs": [
    {
     "name": "stdout",
     "output_type": "stream",
     "text": [
      "added =  {'n', 'c', 'a', 'f', 'y', 'z'}\n",
      "Removed =  {'p', 'b', 'd', 't', 'q', 'e', 'o', 'h', 'k', 'j', 'u'}\n",
      "Same =  {'s', 'i', 'l', 'g', 'v'}\n",
      "Modified =  {'x': (2, 1), 'w': (1, 2), 'm': (2, 3), 'r': (1, 2)}\n",
      "4\n"
     ]
    }
   ],
   "source": [
    "def dict_compare(d1, d2):\n",
    "    d1_keys = set(d1.keys())\n",
    "    d2_keys = set(d2.keys())\n",
    "    \n",
    "    shared_keys = d1_keys.intersection(d2_keys)\n",
    "    \n",
    "    added = d1_keys - d2_keys\n",
    "    \n",
    "    removed = d2_keys - d1_keys\n",
    "    \n",
    "    modified = {o : (d1[o], d2[o]) for o in shared_keys if d1[o] != d2[o]}\n",
    "    \n",
    "    same = set(o for o in shared_keys if d1[o] == d2[o])\n",
    "    \n",
    "    return added, removed, modified, same\n",
    "\n",
    "\n",
    "\n",
    "a = \"fcrxzwscanmligyxyvym\"\n",
    "b = \"jxwtrhvujlmrpdoqbisbwhmgpmeoke\"\n",
    "\n",
    "da = {a[i]:0 for i in range(0,len(a))}\n",
    "db = {b[j]:0 for j in range(0,len(b))}\n",
    "\n",
    "for i in a:\n",
    "    da[i] += 1\n",
    "for j in b:\n",
    "    db[j] += 1\n",
    "\n",
    "added, removed, modified, same = dict_compare(da, db)\n",
    "\n",
    "print(\"added = \", added)\n",
    "print(\"Removed = \", removed)\n",
    "print(\"Same = \", same)\n",
    "print(\"Modified = \", modified)\n",
    "\n",
    "total = 0\n",
    "for key, (num1, num2) in modified.items():\n",
    "    total += abs(num1 - num2)\n",
    "print(total)"
   ]
  },
  {
   "cell_type": "code",
   "execution_count": 27,
   "metadata": {},
   "outputs": [
    {
     "name": "stdout",
     "output_type": "stream",
     "text": [
      "25\n",
      "5\n"
     ]
    }
   ],
   "source": [
    "def makeAnagram(a, b):\n",
    "    da = {a[i]:0 for i in range(0,len(a))}\n",
    "    db = {b[j]:0 for j in range(0,len(b))}\n",
    "\n",
    "    for i in a:\n",
    "        da[i] += 1\n",
    "    for j in b:\n",
    "        db[j] += 1\n",
    "    \n",
    "    #print(set(da.items()))\n",
    "    #print(set(db.items()))\n",
    "    \n",
    "    unmatched_item = set(da.items()) ^ set(db.items())\n",
    "    print(len(unmatched_item))\n",
    "    \n",
    "    shared_items = {k: da[k] for k in da if k in db and da[k] == db[k]}\n",
    "    print(len(shared_items))\n",
    "\n",
    "a = \"fcrxzwscanmligyxyvym\"\n",
    "b = \"jxwtrhvujlmrpdoqbisbwhmgpmeoke\"\n",
    "makeAnagram(a, b)"
   ]
  },
  {
   "cell_type": "code",
   "execution_count": 5,
   "metadata": {},
   "outputs": [
    {
     "name": "stdout",
     "output_type": "stream",
     "text": [
      "1\n",
      "dogisaloyalanimal\n",
      "['d', 'o', 'g', 'i', 's', 'a', 'l', 'o', 'y', 'a', 'l', 'a', 'n', 'i', 'm', 'a', 'l']\n",
      "{'d': 1, 'o': 2, 'g': 1, 'i': 2, 's': 1, 'a': 4, 'l': 3, 'y': 1, 'n': 1, 'm': 1}\n",
      "laudamera\n",
      "['l', 'a', 'u', 'd', 'a', 'm', 'e', 'r', 'a']\n",
      "{'d': 2, 'o': 2, 'g': 1, 'i': 2, 's': 1, 'a': 7, 'l': 4, 'y': 1, 'n': 1, 'm': 2, 'u': 1, 'e': 1, 'r': 1}\n"
     ]
    }
   ],
   "source": []
  },
  {
   "cell_type": "code",
   "execution_count": null,
   "metadata": {},
   "outputs": [],
   "source": []
  }
 ],
 "metadata": {
  "kernelspec": {
   "display_name": "Python 3",
   "language": "python",
   "name": "python3"
  },
  "language_info": {
   "codemirror_mode": {
    "name": "ipython",
    "version": 3
   },
   "file_extension": ".py",
   "mimetype": "text/x-python",
   "name": "python",
   "nbconvert_exporter": "python",
   "pygments_lexer": "ipython3",
   "version": "3.8.5"
  }
 },
 "nbformat": 4,
 "nbformat_minor": 2
}
