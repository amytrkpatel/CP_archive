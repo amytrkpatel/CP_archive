{
 "cells": [
  {
   "cell_type": "markdown",
   "metadata": {},
   "source": [
    "Link: https://practice.geeksforgeeks.org/problems/check-if-array-contains-contiguous-integers-with-duplicates-allowed2046/1"
   ]
  },
  {
   "cell_type": "code",
   "execution_count": 3,
   "metadata": {},
   "outputs": [
    {
     "name": "stdout",
     "output_type": "stream",
     "text": [
      "[1, 2, 3, 4, 5]\n",
      "Yes\n"
     ]
    }
   ],
   "source": [
    "t = int(input())\n",
    "for _ in range(t):\n",
    "    n = int(input())\n",
    "    A = [A for A in input().split()]\n",
    "\n",
    "    a = set(A)\n",
    "\n",
    "    A = [int(a) for a in a]\n",
    "    A.sort()\n",
    "    A.append(A[len(A)-1]+1)\n",
    "    flag = 0\n",
    "    print(A)\n",
    "    for i in range(0, len(A)-1):\n",
    "        if A[i]+1 != A[i+1]:\n",
    "            flag = 1\n",
    "            print(\"No\")\n",
    "            break\n",
    "\n",
    "    if flag == 0:\n",
    "        print('Yes')\n"
   ]
  },
  {
   "cell_type": "code",
   "execution_count": null,
   "metadata": {},
   "outputs": [],
   "source": [
    "for _ in range(int(input())):\n",
    "    n, s = (int(x) for x in input().split())\n",
    "    st=0\n",
    "    if( s>n*9 or s<=0 ):\n",
    "        print(-1)\n",
    "    else:\n",
    "        while(s>0):\n",
    "            if s-9>0:\n",
    "                st=st*10 + 9\n",
    "                s=s-9\n",
    "            else:\n",
    "                st=st*10+s\n",
    "                break\n",
    "    print(str(st).ljust(n,'0'))"
   ]
  },
  {
   "cell_type": "code",
   "execution_count": null,
   "metadata": {},
   "outputs": [
    {
     "name": "stdout",
     "output_type": "stream",
     "text": [
      "1\n",
      "3 20\n"
     ]
    }
   ],
   "source": [
    "for _ in range(int(input())):\n",
    "    n, s = (int(x) for x in input().split())\n",
    "    if n*9 < s or s == 0:\n",
    "        print(-1)\n",
    "    else:\n",
    "        ans = 0\n",
    "        while s > 0:\n",
    "            if s > 9:\n",
    "                ans = ans*10 + 9\n",
    "            else:\n",
    "                ans = ans*10 + s\n",
    "                s = s - 9\n",
    "                n -= 1\n",
    "                print(ans,end='')\n",
    "                for i in range(n):\n",
    "                    print('0',end='')\n",
    "                print()"
   ]
  },
  {
   "cell_type": "code",
   "execution_count": 9,
   "metadata": {},
   "outputs": [
    {
     "name": "stdout",
     "output_type": "stream",
     "text": [
      "3\n",
      "insert 0 5\n",
      "insert 1 6\n",
      "print\n",
      "[5, 6]\n"
     ]
    }
   ],
   "source": [
    "'''a = ['insert','0','34']\n",
    "\n",
    "lst =[]\n",
    "\n",
    "if a[0] == 'insert':\n",
    "    lst.insert(int(a[1]),int(a[2]))\n",
    "print(lst)'''\n",
    "\n",
    "\n",
    "\n",
    "if __name__ == '__main__':\n",
    "    t = int(input())\n",
    "    lst = []\n",
    "    for _ in range(t):\n",
    "        cmd = [x for x in input().split()]\n",
    "        \n",
    "        if cmd[0] == 'insert':\n",
    "            lst.insert(int(cmd[1]),int(cmd[2]))\n",
    "        if cmd[0] == 'print':\n",
    "            print(lst)\n",
    "        if cmd[0] == 'remove':\n",
    "            lst.remove(int(cmd[1]))\n",
    "        if cmd[0] == 'append':\n",
    "            lst.append(int(cmd[1]))\n",
    "        if cmd[0] == 'sort':\n",
    "            lst.sort()\n",
    "        if cmd[0] == 'pop':\n",
    "            lst.pop()\n",
    "        if cmd[0] == 'reverse':\n",
    "            lst.reverse()"
   ]
  },
  {
   "cell_type": "code",
   "execution_count": null,
   "metadata": {},
   "outputs": [],
   "source": []
  }
 ],
 "metadata": {
  "interpreter": {
   "hash": "26de051ba29f2982a8de78e945f0abaf191376122a1563185a90213a26c5da77"
  },
  "kernelspec": {
   "display_name": "Python 3.10.4 64-bit",
   "language": "python",
   "name": "python3"
  },
  "language_info": {
   "codemirror_mode": {
    "name": "ipython",
    "version": 3
   },
   "file_extension": ".py",
   "mimetype": "text/x-python",
   "name": "python",
   "nbconvert_exporter": "python",
   "pygments_lexer": "ipython3",
   "version": "3.10.4"
  }
 },
 "nbformat": 4,
 "nbformat_minor": 2
}
