{
 "cells": [
  {
   "cell_type": "markdown",
   "metadata": {},
   "source": [
    "https://practice.geeksforgeeks.org/problems/find-element-occuring-once-when-all-other-are-present-thrice/1/"
   ]
  },
  {
   "cell_type": "code",
   "execution_count": 1,
   "metadata": {},
   "outputs": [
    {
     "name": "stdout",
     "output_type": "stream",
     "text": [
      "1\n",
      "7\n",
      "2 2 5 5 20 30 30\n",
      "['2', '2', '5', '5', '20', '30', '30']\n",
      "{'2': 2, '5': 2, '20': 1, '30': 2}\n",
      "20\n"
     ]
    }
   ],
   "source": [
    "t = int(input())\n",
    "for _ in range(t):\n",
    "    n = int(input())\n",
    "    num = [num for num in input().split()]\n",
    "    num_dct = {num[i]: 0 for i in range(0, len(num))}\n",
    "    \n",
    "    print(num)\n",
    "    \n",
    "    flag = 0\n",
    "    \n",
    "    for i in num:\n",
    "        num_dct[i] += 1\n",
    "    \n",
    "    print(num_dct)\n",
    "    \n",
    "    for key, value in num_dct.items():\n",
    "        if value == 1:\n",
    "            print(key)\n",
    "            break\n",
    "    "
   ]
  },
  {
   "cell_type": "code",
   "execution_count": 26,
   "metadata": {},
   "outputs": [
    {
     "name": "stdout",
     "output_type": "stream",
     "text": [
      "1\n",
      "10\n",
      "1 3 2 4 1 0 2 3 0 1\n",
      "1\n"
     ]
    }
   ],
   "source": [
    "#User function Template for python3\n",
    "\n",
    "def firstRepeated(num, n):\n",
    "    #a : given array\n",
    "    #n : size of the array\n",
    "    d = {num[i]: 0 for i in range(0, len(num))}\n",
    "    for i in num:\n",
    "        d[i] += 1\n",
    "    \n",
    "    res = -1\n",
    "    for key,val in d.items():\n",
    "        if val >= 2:\n",
    "            res = key\n",
    "            break\n",
    "\n",
    "    flag = 0\n",
    "\n",
    "    for i in range(0, len(num)):\n",
    "        if num[i] == res:\n",
    "            flag = 1\n",
    "            return (i+1)\n",
    "\n",
    "    if flag == 0:\n",
    "        return -1\n",
    "\n",
    "\n",
    "if __name__=='__main__':\n",
    "    t=int(input())\n",
    "    for _ in range(t):\n",
    "        n=int(input())\n",
    "        \n",
    "        arr=[int(x) for x in input().strip().split()]\n",
    "        print(firstRepeated(arr, n))"
   ]
  },
  {
   "cell_type": "code",
   "execution_count": null,
   "metadata": {},
   "outputs": [],
   "source": []
  }
 ],
 "metadata": {
  "kernelspec": {
   "display_name": "Python 3",
   "language": "python",
   "name": "python3"
  },
  "language_info": {
   "codemirror_mode": {
    "name": "ipython",
    "version": 3
   },
   "file_extension": ".py",
   "mimetype": "text/x-python",
   "name": "python",
   "nbconvert_exporter": "python",
   "pygments_lexer": "ipython3",
   "version": "3.8.3"
  }
 },
 "nbformat": 4,
 "nbformat_minor": 2
}
