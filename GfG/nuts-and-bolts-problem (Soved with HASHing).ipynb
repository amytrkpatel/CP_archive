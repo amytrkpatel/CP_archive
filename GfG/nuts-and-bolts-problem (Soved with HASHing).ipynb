{
 "cells": [
  {
   "cell_type": "code",
   "execution_count": 12,
   "metadata": {},
   "outputs": [
    {
     "name": "stdout",
     "output_type": "stream",
     "text": [
      "1\n",
      "5\n",
      "@ % $ # ^\n",
      "% @ # $ ^\n",
      "# $ % @ ^ \n",
      "# $ % @ ^ "
     ]
    }
   ],
   "source": [
    "t = int(input())\n",
    "for _ in range(t):\n",
    "    n = int(input())\n",
    "    nuts = [nuts for nuts in input().split()]\n",
    "    bolts = [bolts for bolts in input().split()]\n",
    "    ordered = {'!': 0, '#': 0, '$': 0, '%': 0, '&': 0, '*': 0, '@': 0, '^': 0, '~': 0}\n",
    "    \n",
    "    for nuti in nuts:\n",
    "        ordered[nuti] += 1\n",
    "    \n",
    "    for bolti in bolts:\n",
    "        ordered[bolti] += 1\n",
    "        \n",
    "    for key, value in ordered.items():\n",
    "        if value == 2:\n",
    "            print(key, end =\" \")\n",
    "    \n",
    "    print()\n",
    "    \n",
    "    for key, value in ordered.items():\n",
    "        if value == 2:\n",
    "            print(key, end =\" \")\n",
    "    "
   ]
  },
  {
   "cell_type": "code",
   "execution_count": 3,
   "metadata": {},
   "outputs": [
    {
     "name": "stdout",
     "output_type": "stream",
     "text": [
      "espresso 72\n",
      "latte 56\n",
      "cappuccino 54\n",
      "americano 48\n",
      "cortado 41\n",
      "[('espresso', 72), ('latte', 56), ('cappuccino', 54), ('americano', 48), ('cortado', 41)]\n"
     ]
    }
   ],
   "source": [
    "orders = {\n",
    "\t'cappuccino': 54,\n",
    "\t'latte': 56,\n",
    "\t'espresso': 72,\n",
    "\t'americano': 48,\n",
    "\t'cortado': 41\n",
    "}\n",
    "\n",
    "sort_orders = sorted(orders.items(), key=lambda x: x[1], reverse=True)\n",
    "\n",
    "for i in sort_orders:\n",
    "\tprint(i[0], i[1])\n",
    "print(sort_orders)"
   ]
  },
  {
   "cell_type": "code",
   "execution_count": null,
   "metadata": {},
   "outputs": [],
   "source": []
  }
 ],
 "metadata": {
  "kernelspec": {
   "display_name": "Python 3",
   "language": "python",
   "name": "python3"
  },
  "language_info": {
   "codemirror_mode": {
    "name": "ipython",
    "version": 3
   },
   "file_extension": ".py",
   "mimetype": "text/x-python",
   "name": "python",
   "nbconvert_exporter": "python",
   "pygments_lexer": "ipython3",
   "version": "3.7.4"
  }
 },
 "nbformat": 4,
 "nbformat_minor": 2
}
