{
 "cells": [
  {
   "cell_type": "markdown",
   "metadata": {},
   "source": [
    "https://practice.geeksforgeeks.org/problems/first-come-first-serve1328/1/"
   ]
  },
  {
   "cell_type": "code",
   "execution_count": 9,
   "metadata": {},
   "outputs": [
    {
     "name": "stdout",
     "output_type": "stream",
     "text": [
      "1\n",
      "7 2\n",
      "1 7 4 3 4 8 7\n",
      "['1', '7', '4', '3', '4', '8', '7']\n",
      "{'1': 1, '7': 2, '4': 2, '3': 1, '8': 1}\n",
      "7\n"
     ]
    }
   ],
   "source": [
    "t = int(input())\n",
    "for _ in range(t):\n",
    "    n,k = [int(j) for j in input().split()]\n",
    "    a = [a for a in input().split()]\n",
    "    \n",
    "    a_dct = {a[i]: 0 for i in range(0, len(a))}\n",
    "    \n",
    "    flag = 0\n",
    "    \n",
    "    for i in a:\n",
    "        a_dct[i] += 1\n",
    "    \n",
    "    flag = 0\n",
    "    for key, value in a_dct.items():\n",
    "        if value == k:\n",
    "            flag = 1\n",
    "            print(key)\n",
    "            break\n",
    "    if flag == 0:\n",
    "        print(-1)"
   ]
  },
  {
   "cell_type": "code",
   "execution_count": 8,
   "metadata": {},
   "outputs": [
    {
     "name": "stdout",
     "output_type": "stream",
     "text": [
      "1\n",
      "7 2\n",
      "1 7 4 3 4 8 7\n",
      "{'1': 1, '7': 2, '4': 2, '3': 1, '8': 1}\n",
      "7\n"
     ]
    }
   ],
   "source": [
    "#More effifcient\n",
    "\n",
    "for _ in range(int(input())):\n",
    "    n,k = (int(i) for i in input().split())\n",
    "    a = [a for a in input().split()]\n",
    "    d = dict.fromkeys(a,0)\n",
    "    \n",
    "    for i in a:\n",
    "        d[i]+=1\n",
    "    \n",
    "    print(d)\n",
    "    flag = 0\n",
    "    for i in a:\n",
    "        if d[i]==k:\n",
    "            flag = 1\n",
    "            print(i)\n",
    "            break\n",
    "    \n",
    "    if flag == 0:\n",
    "        print(-1)"
   ]
  },
  {
   "cell_type": "code",
   "execution_count": null,
   "metadata": {},
   "outputs": [],
   "source": []
  }
 ],
 "metadata": {
  "kernelspec": {
   "display_name": "Python 3",
   "language": "python",
   "name": "python3"
  },
  "language_info": {
   "codemirror_mode": {
    "name": "ipython",
    "version": 3
   },
   "file_extension": ".py",
   "mimetype": "text/x-python",
   "name": "python",
   "nbconvert_exporter": "python",
   "pygments_lexer": "ipython3",
   "version": "3.7.4"
  }
 },
 "nbformat": 4,
 "nbformat_minor": 2
}
