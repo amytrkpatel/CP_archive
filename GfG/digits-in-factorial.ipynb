{
 "cells": [
  {
   "cell_type": "markdown",
   "metadata": {},
   "source": [
    "Link: https://www.geeksforgeeks.org/count-digits-factorial-set-1/"
   ]
  },
  {
   "cell_type": "code",
   "execution_count": 28,
   "metadata": {},
   "outputs": [
    {
     "name": "stdout",
     "output_type": "stream",
     "text": [
      "1\n",
      "1\n",
      "1\n"
     ]
    }
   ],
   "source": [
    "import math\n",
    "\n",
    "def Loggedfactorial(n):\n",
    "    return 0 if (n==1) else math.log(n,10) + Loggedfactorial(n - 1) #Using recusrion causes stack over-flow in some machines\n",
    "\n",
    "def digitsInFactorial(N):\n",
    "    digits = math.floor(Loggedfactorial(N))+ 1\n",
    "    return digits\n",
    "\n",
    "\n",
    "for _ in range(int(input())):\n",
    "    \n",
    "    num = int(input())\n",
    "    x = Loggedfactorial(num)\n",
    "    print(math.floor(x) + 1)"
   ]
  },
  {
   "cell_type": "code",
   "execution_count": 27,
   "metadata": {},
   "outputs": [
    {
     "name": "stdout",
     "output_type": "stream",
     "text": [
      "1\n",
      "1\n",
      "1\n"
     ]
    }
   ],
   "source": [
    "import math\n",
    "\n",
    "def digitsInFactorial(n):\n",
    "    if n == 1:\n",
    "        return 1\n",
    "        \n",
    "    digit = 0\n",
    "    \n",
    "    for i in range(1, n+1):\n",
    "        digit +=  math.log(i,10)\n",
    "    \n",
    "    digit = math.floor(digit) + 1\n",
    "    return digit\n",
    "\n",
    "\n",
    "for _ in range(int(input())):    \n",
    "    num = int(input())\n",
    "    \n",
    "    x = digitsInFactorial(num)\n",
    "    print(x)"
   ]
  },
  {
   "cell_type": "code",
   "execution_count": null,
   "metadata": {},
   "outputs": [],
   "source": []
  }
 ],
 "metadata": {
  "kernelspec": {
   "display_name": "Python 3",
   "language": "python",
   "name": "python3"
  },
  "language_info": {
   "codemirror_mode": {
    "name": "ipython",
    "version": 3
   },
   "file_extension": ".py",
   "mimetype": "text/x-python",
   "name": "python",
   "nbconvert_exporter": "python",
   "pygments_lexer": "ipython3",
   "version": "3.7.4"
  }
 },
 "nbformat": 4,
 "nbformat_minor": 2
}
