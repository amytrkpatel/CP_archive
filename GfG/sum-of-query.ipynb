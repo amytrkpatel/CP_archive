{
 "cells": [
  {
   "cell_type": "code",
   "execution_count": 18,
   "metadata": {
    "scrolled": false
   },
   "outputs": [
    {
     "name": "stdout",
     "output_type": "stream",
     "text": [
      "1\n",
      "4\n",
      "1 2 3 4\n",
      "2\n",
      "1 4 2 3\n",
      "a =  [1, 2, 3, 4]\n",
      "Q List =  [1, 4, 2, 3]\n",
      "10 5 "
     ]
    }
   ],
   "source": [
    "for _ in range(int(input())):\n",
    "    n = int(input())\n",
    "    a = [int(i) for i in input().split()]\n",
    "    \n",
    "    q = int(input())\n",
    "    Q = [int(i) for i in input().split()]\n",
    "    \n",
    "    print(\"a = \", a)\n",
    "    print(\"Q List = \", Q)\n",
    "\n",
    "    s = 0\n",
    "    \n",
    "    for i in range(0,len(Q),2):\n",
    "        index1 = Q[i]-1\n",
    "        index2 = Q[i+1]-1\n",
    "        s = sum(a[index1 : index2 + 1])\n",
    "        print(s, end=\" \")"
   ]
  },
  {
   "cell_type": "markdown",
   "metadata": {},
   "source": []
  }
 ],
 "metadata": {
  "kernelspec": {
   "display_name": "Python 3",
   "language": "python",
   "name": "python3"
  },
  "language_info": {
   "codemirror_mode": {
    "name": "ipython",
    "version": 3
   },
   "file_extension": ".py",
   "mimetype": "text/x-python",
   "name": "python",
   "nbconvert_exporter": "python",
   "pygments_lexer": "ipython3",
   "version": "3.7.4"
  }
 },
 "nbformat": 4,
 "nbformat_minor": 2
}
