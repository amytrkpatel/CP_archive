{
 "cells": [
  {
   "cell_type": "markdown",
   "metadata": {},
   "source": [
    "### Maximum and minimum of an array using minimum number of comparisons\n",
    "\n",
    "Problem Link :> https://practice.geeksforgeeks.org/problems/find-minimum-and-maximum-element-in-an-array4428/1/"
   ]
  },
  {
   "cell_type": "markdown",
   "metadata": {},
   "source": [
    "#### Method 1: Sort and Fetch\n",
    "Since, we already know the size of array (N), we can simply sort the array in O(nlogn) and can pick the 1st & last element as min-max in O(1) TC. Hence, overall complexity of O(nlogn)."
   ]
  },
  {
   "cell_type": "code",
   "execution_count": 4,
   "metadata": {},
   "outputs": [
    {
     "name": "stdout",
     "output_type": "stream",
     "text": [
      "min: 4\n",
      "max: 100\n"
     ]
    }
   ],
   "source": [
    "if __name__ == \"__main__\":\n",
    "    t = int(input())\n",
    "    while(t>0):\n",
    "        n = int(input())\n",
    "        A = [int(x) for x in input().split()]\n",
    "        A = sorted(A)                           #Sorted() uses tim sort which is O(nlogn) in worst case.\n",
    "\n",
    "        print(\"min: \"+ str(A[0]))\n",
    "        print(\"max: \"+ str(A[n-1]))\n",
    "        t = t-1"
   ]
  },
  {
   "cell_type": "markdown",
   "metadata": {},
   "source": [
    "#### Method 2: Simple Linear Search\n",
    "Taking a min & a max variable, comparing each element as we go, storing values in them. Since, only one traversal is needed, the time complexity is O(n)\n"
   ]
  },
  {
   "cell_type": "code",
   "execution_count": 5,
   "metadata": {},
   "outputs": [
    {
     "name": "stdout",
     "output_type": "stream",
     "text": [
      "Minimum element:  14\n",
      "MAximum element:  100\n"
     ]
    }
   ],
   "source": [
    "#this could have been done simply by taking two variables but why not make it complicated by taking structure\n",
    "class pair:\n",
    "    def __init__(self):\n",
    "        self.min = 0\n",
    "        self.max = 0\n",
    "\n",
    "def retMinMax(arr, n) -> pair:\n",
    "    result = pair()\n",
    "    #If there is only one element\n",
    "    if n == 1:\n",
    "        result.min = arr[0]\n",
    "        result.max = arr[1]\n",
    "        return result\n",
    "    \n",
    "    #If there are more than one element\n",
    "    if arr[0] < arr[1]:\n",
    "        result.min = arr[0]\n",
    "        result.max = arr[1]\n",
    "    else:\n",
    "        result.min = arr[1]\n",
    "        result.max = arr[0]\n",
    "    \n",
    "    for i in range(2,n):\n",
    "        if arr[i] < result.min:\n",
    "            result.min = arr[i]\n",
    "        elif arr[i] > result.max:\n",
    "            result.max = arr[i]\n",
    "    \n",
    "    return result\n",
    "\n",
    "\n",
    "#Driver code\n",
    "if __name__==\"__main__\":\n",
    "    t = int(input())\n",
    "    while(t>0):\n",
    "        n = int(input())\n",
    "        a = [int(x) for x in input().split()]\n",
    "        result = retMinMax(a,n)\n",
    "        print(\"Minimum element: \", result.min)\n",
    "        print(\"MAximum element: \", result.max)\n",
    "\n",
    "        t = t-1"
   ]
  }
 ],
 "metadata": {
  "interpreter": {
   "hash": "cef9e06bb236b2a8629b07e87a04b187b952a0f661eff5533360a155783f0c33"
  },
  "kernelspec": {
   "display_name": "Python 3.8.5 64-bit ('base': conda)",
   "language": "python",
   "name": "python3"
  },
  "language_info": {
   "codemirror_mode": {
    "name": "ipython",
    "version": 3
   },
   "file_extension": ".py",
   "mimetype": "text/x-python",
   "name": "python",
   "nbconvert_exporter": "python",
   "pygments_lexer": "ipython3",
   "version": "3.8.5"
  },
  "orig_nbformat": 4
 },
 "nbformat": 4,
 "nbformat_minor": 2
}
