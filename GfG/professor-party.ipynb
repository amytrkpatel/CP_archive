{
 "cells": [
  {
   "cell_type": "code",
   "execution_count": 9,
   "metadata": {},
   "outputs": [
    {
     "name": "stdout",
     "output_type": "stream",
     "text": [
      "1\n",
      "6\n",
      "1 3 2 4 5 1\n",
      "GIRLS\n"
     ]
    }
   ],
   "source": [
    "t = int(input())\n",
    "for _ in range(t):\n",
    "\tn = int(input())\n",
    "\tx = [int(x) for x in input().split()]\n",
    "\tlenx = len(x)\n",
    "\tsetx = set(x)\n",
    "\tlensx = len(setx)\n",
    "\t\n",
    "\tif lenx-lensx > 0:\n",
    "\t\tprint('BOYS')\n",
    "\telse:\n",
    "\t\tprint('GIRLS')"
   ]
  },
  {
   "cell_type": "code",
   "execution_count": 10,
   "metadata": {},
   "outputs": [
    {
     "name": "stdout",
     "output_type": "stream",
     "text": [
      "1\n",
      "6\n",
      "1 3 2 4 5 1\n",
      "BOYS\n"
     ]
    }
   ],
   "source": [
    "t = int(input())\n",
    "for _ in range(t):\n",
    "    n = int(input())\n",
    "    a = list(map(int, input().strip().split()))\n",
    "    ht=set()\n",
    "    for i in range(len(a)):\n",
    "        ht.add(a[i])\n",
    "    if len(ht)==len(a):\n",
    "        print(\"GIRLS\")\n",
    "    else:\n",
    "        print(\"BOYS\")"
   ]
  },
  {
   "cell_type": "code",
   "execution_count": null,
   "metadata": {},
   "outputs": [],
   "source": []
  }
 ],
 "metadata": {
  "kernelspec": {
   "display_name": "Python 3",
   "language": "python",
   "name": "python3"
  },
  "language_info": {
   "codemirror_mode": {
    "name": "ipython",
    "version": 3
   },
   "file_extension": ".py",
   "mimetype": "text/x-python",
   "name": "python",
   "nbconvert_exporter": "python",
   "pygments_lexer": "ipython3",
   "version": "3.7.4"
  }
 },
 "nbformat": 4,
 "nbformat_minor": 2
}
