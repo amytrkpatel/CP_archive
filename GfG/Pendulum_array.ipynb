{
 "cells": [
  {
   "cell_type": "code",
   "execution_count": null,
   "metadata": {},
   "outputs": [],
   "source": [
    "#CODE1\n",
    "\n",
    "try:\n",
    "    t = int(input())\n",
    "    while t > 0:\n",
    "        n = int(input())\n",
    "        arr = list(map(int,input().split())) #for taking single line space separated ints\n",
    "        arr.sort()\n",
    "        \n",
    "        pendulum_arr = []\n",
    "        \n",
    "        for i in range(0,n):\n",
    "            if i%2 == 0:\n",
    "                pendulum_arr.insert(0,arr[i])\n",
    "            else:\n",
    "                pendulum_arr.append(arr[i])\n",
    "        \n",
    "        print(pendulum_arr)            #This was giving error during final submission in GFG, adding (*pendulum_arr) didn't\n",
    "    t = t-1\n",
    "except:\n",
    "    pass"
   ]
  },
  {
   "cell_type": "markdown",
   "metadata": {},
   "source": [
    "## Same Logic but efficient code"
   ]
  },
  {
   "cell_type": "code",
   "execution_count": null,
   "metadata": {},
   "outputs": [],
   "source": [
    "#CODE2\n",
    "\n",
    "T = int(input())\n",
    "for _ in range(T):\n",
    "    N = int(input())\n",
    "    arr = sorted(map(int,input().split()))\n",
    "    penArr = []\n",
    "    flip = True\n",
    "    for x in arr:\n",
    "        penArr.insert(0,x) if flip else penArr.append(x)\n",
    "        flip = not flip\n",
    "    print(*penArr)"
   ]
  },
  {
   "cell_type": "markdown",
   "metadata": {},
   "source": [
    "## Code1 modified using inspiration from code 2"
   ]
  },
  {
   "cell_type": "code",
   "execution_count": null,
   "metadata": {},
   "outputs": [],
   "source": [
    "#CODE3\n",
    "\n",
    "t = int(input())\n",
    "for _ in range(t):\n",
    "    n = int(input())\n",
    "    arr = list(map(int,input().split())) #for taking single line space separated ints\n",
    "    #x = [int(x) for x in input().split()] #for taking single line space separated ints in a list\n",
    "    arr.sort()\n",
    "    \n",
    "    pendulum_arr = []\n",
    "    \n",
    "    for i in range(0,n):\n",
    "        if i%2 == 0:\n",
    "            pendulum_arr.insert(0,arr[i])\n",
    "        else:\n",
    "            pendulum_arr.append(arr[i])\n",
    "    \n",
    "    print(*pendulum_arr)"
   ]
  }
 ],
 "metadata": {
  "kernelspec": {
   "display_name": "Python 3",
   "language": "python",
   "name": "python3"
  },
  "language_info": {
   "codemirror_mode": {
    "name": "ipython",
    "version": 3
   },
   "file_extension": ".py",
   "mimetype": "text/x-python",
   "name": "python",
   "nbconvert_exporter": "python",
   "pygments_lexer": "ipython3",
   "version": "3.7.4"
  }
 },
 "nbformat": 4,
 "nbformat_minor": 2
}
