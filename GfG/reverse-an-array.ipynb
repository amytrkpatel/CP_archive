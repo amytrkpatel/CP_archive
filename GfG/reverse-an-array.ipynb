{
 "cells": [
  {
   "cell_type": "markdown",
   "metadata": {},
   "source": [
    "#### Method 1:\n",
    "Problem Link :> https://www.geeksforgeeks.org/problems/reverse-an-array/1\n",
    "\n",
    "You are given an array of integers arr . Your task is to reverse the given array and return the reversed array.\n",
    "\n",
    "Examples:\n",
    "\n",
    "Input: arr = [1, 2, 3, 4]\n",
    "Output: [4, 3, 2, 1]\n",
    "Explanation: The elements of the array are 1 2 3 4. After reversing the array, the first element goes to the last position,\n",
    "the second element goes to the second last position and so on. Hence, the answer is 4 3 2 1.\n",
    "Input: arr = [1]\n",
    "Output: [1]\n",
    "Explanation: The array has only single element, hence the reversed array is same as the original.\n",
    "Expected Time Complexity: O(n)\n",
    "Expected Space Complexity: O(1)\n",
    "\n",
    "Constraints:\n",
    "1<=arr.size()<=105\n",
    "0<=arr[i]<=105"
   ]
  },
  {
   "cell_type": "markdown",
   "metadata": {},
   "source": [
    "For a comparatively large list, under time constraints, it seems that the reversed() function performs faster than the slicing method. This is because reversed() just returns an iterator that iterates the original list in reverse order, without copying anything whereas slicing creates an entirely new list, copying every element from the original list. For a list with 10^6 Values, the reversed() performs almost 20,000 better than the slicing method. If there is a need to store the reverse copy of data then slicing can be used but if one only wants to iterate the list in reverse manner, reversed() is definitely the better option.\n",
    "\n",
    "OPTIMAL CODE:\n",
    "\n",
    "ls = reversed(ls)\n",
    "print('Iterator object :', ls)\n",
    "for element in ls:\n",
    "    print(element)"
   ]
  },
  {
   "cell_type": "code",
   "execution_count": 7,
   "metadata": {},
   "outputs": [
    {
     "name": "stdout",
     "output_type": "stream",
     "text": [
      "[34, 12]\n"
     ]
    }
   ],
   "source": [
    "def reverseWord(s):\n",
    "    print(s[::-1])\n",
    "\n",
    "def reverseArray(s):\n",
    "    i, j = 0, len(s)-1\n",
    "    while i < j:\n",
    "        s[i] += s[j]\n",
    "        s[j] = s[i] - s[j]\n",
    "        s[i] = s[i] - s[j]\n",
    "        i += 1\n",
    "        j -= 1\n",
    "    return s\n",
    "# Driver code\n",
    "if __name__ == \"__main__\":\n",
    "    t = int(input())\n",
    "    while(t > 0):\n",
    "        s = [int(x) for x in input().split()] # ! taking space separated ints input as array\n",
    "        print(reverseArray(s))\n",
    "        t = t-1"
   ]
  }
 ],
 "metadata": {
  "kernelspec": {
   "display_name": "base",
   "language": "python",
   "name": "python3"
  },
  "language_info": {
   "codemirror_mode": {
    "name": "ipython",
    "version": 3
   },
   "file_extension": ".py",
   "mimetype": "text/x-python",
   "name": "python",
   "nbconvert_exporter": "python",
   "pygments_lexer": "ipython3",
   "version": "3.11.3"
  },
  "orig_nbformat": 4
 },
 "nbformat": 4,
 "nbformat_minor": 2
}
