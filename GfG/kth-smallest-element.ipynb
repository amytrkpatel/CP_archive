{
 "cells": [
  {
   "cell_type": "markdown",
   "metadata": {},
   "source": [
    "Problem Link :> https://practice.geeksforgeeks.org/problems/kth-smallest-element5635/1\n",
    "\n",
    "Given an array arr[] and an integer k where k is smaller than the size of the array, the task is to find the kth smallest element in the given array.\n",
    "\n",
    "Follow up: Don't solve it using the inbuilt sort function.\n",
    "\n",
    "Examples :\n",
    "\n",
    "Input: arr[] = [7, 10, 4, 3, 20, 15], k = 3\n",
    "\n",
    "Output:  7\n",
    "\n",
    "Explanation: 3rd smallest element in the given array is 7.\n",
    "\n",
    "\n",
    "Input: arr[] = [2, 3, 1, 20, 15], k = 4 \n",
    "\n",
    "Output: 15\n",
    "\n",
    "Explanation: 4th smallest element in the given array is 15.\n",
    "\n",
    "Expected Time Complexity: O(n+(max_element) )\n",
    "\n",
    "Expected Auxiliary Space: O(max_element)\n",
    "\n",
    "Constraints:\n",
    "1 <= arr.size <= 106\n",
    "1<= arr[i] <= 106\n",
    "1 <= k <= n"
   ]
  },
  {
   "cell_type": "markdown",
   "metadata": {},
   "source": [
    "### Method 1\n",
    "The first approach seems to be sort the array with O(nlogn) time complexity and then fetch the kth element."
   ]
  },
  {
   "cell_type": "code",
   "execution_count": null,
   "metadata": {},
   "outputs": [],
   "source": [
    "def KthElement(a, k):\n",
    "    a = sorted(a)\n",
    "    kth = a[k-1]\n",
    "    return kth\n",
    "\n",
    "def findCount(arr):\n",
    "    counter_dict = {}\n",
    "    for num in arr:\n",
    "        arr[num] = counter_dict.get(num, 0) + 1\n",
    "    return counter_dict\n",
    "\n",
    "def KthElementWithoutSorting(a, k):\n",
    "    counter_dict = findCount(a)\n",
    "    sum = 0\n",
    "    for i in counter_dict.keys():\n",
    "        sum += counter_dict[i]\n",
    "        \n",
    "\n",
    "# Driver code\n",
    "if __name__ == \"__main__\":\n",
    "    t = int(input())\n",
    "    while(t > 0):\n",
    "        n = int(input())\n",
    "        a = [int(x) for x in input().split()]\n",
    "        k = int(input())\n",
    "        print(KthElement(a, k))\n",
    "        t = t-1"
   ]
  }
 ],
 "metadata": {
  "language_info": {
   "name": "python"
  },
  "orig_nbformat": 4
 },
 "nbformat": 4,
 "nbformat_minor": 2
}
