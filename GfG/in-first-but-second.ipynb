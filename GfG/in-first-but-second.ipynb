{
 "cells": [
  {
   "cell_type": "markdown",
   "metadata": {},
   "source": [
    "https://practice.geeksforgeeks.org/problems/in-first-but-second5423/1"
   ]
  },
  {
   "cell_type": "code",
   "execution_count": 11,
   "metadata": {},
   "outputs": [
    {
     "name": "stdout",
     "output_type": "stream",
     "text": [
      "1\n",
      "6 5\n",
      "1 2 3 4 5 10\n",
      "2 3 1 0 5\n",
      "['10', '4']\n",
      "10\n",
      "4\n"
     ]
    }
   ],
   "source": [
    "t = int(input())\n",
    "for _ in range(t):\n",
    "    n, m = [int(x) for x in input().split()]\n",
    "    A = [A for A in input().split()]\n",
    "    B = [B for B in input().split()]\n",
    "    a = set(A)\n",
    "    b = set(B)\n",
    "    \n",
    "    res = list(a.difference(b))\n",
    "    \n",
    "    print(res)\n",
    "    \n",
    "    for i in res:\n",
    "        print(i,end=\" \")\n",
    "    print()"
   ]
  },
  {
   "cell_type": "code",
   "execution_count": 14,
   "metadata": {},
   "outputs": [
    {
     "name": "stdout",
     "output_type": "stream",
     "text": [
      "1\n",
      "6 5\n",
      "1 2 3 4 5 10\n",
      "2 3 1 0 5\n",
      "4 10 \n"
     ]
    }
   ],
   "source": [
    "def difference(A, B):\n",
    "    d = {}\n",
    "    result = ''\n",
    "    for x in B:\n",
    "        if x not in d:\n",
    "            d[x] = True\n",
    "\n",
    "    for x in A:\n",
    "        if x not in d:\n",
    "            result += str(x) + ' '\n",
    "    print(result)\n",
    "\n",
    "t = int(input())\n",
    "for i in range(t):\n",
    "    input()\n",
    "    A = [ int(x) for x in input().split()]\n",
    "    B = [ int(x) for x in input().split()]\n",
    "    difference(A, B)"
   ]
  },
  {
   "cell_type": "code",
   "execution_count": null,
   "metadata": {},
   "outputs": [],
   "source": []
  }
 ],
 "metadata": {
  "kernelspec": {
   "display_name": "Python 3",
   "language": "python",
   "name": "python3"
  },
  "language_info": {
   "codemirror_mode": {
    "name": "ipython",
    "version": 3
   },
   "file_extension": ".py",
   "mimetype": "text/x-python",
   "name": "python",
   "nbconvert_exporter": "python",
   "pygments_lexer": "ipython3",
   "version": "3.7.4"
  }
 },
 "nbformat": 4,
 "nbformat_minor": 2
}
