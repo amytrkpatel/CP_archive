{
 "cells": [
  {
   "cell_type": "code",
   "execution_count": 4,
   "metadata": {},
   "outputs": [
    {
     "name": "stdout",
     "output_type": "stream",
     "text": [
      "1\n",
      "10\n",
      "7 0 4 2 5 0 6 4 0 5\n",
      "Height of building: [7, 0, 4, 2, 5, 0, 6, 4, 0, 5]\n",
      "Max to the Left: [7, 7, 7, 7, 7, 7, 7, 7, 7, 7]\n",
      "Max to the Right: [5, 5, 5, 6, 6, 6, 6, 6, 6, 7]\n",
      "25\n"
     ]
    }
   ],
   "source": [
    "#https://practice.geeksforgeeks.org/problems/amount-of-water/0\n",
    "\n",
    "t = int(input())\n",
    "for _ in range(t):\n",
    "    n = int(input())\n",
    "    build_heights = list(map(int,input().split())) #for taking single line space separated ints\n",
    "    print(\"Height of building:\", build_heights)\n",
    "    \n",
    "    left_max = []\n",
    "    right_max = []\n",
    "    max1 = 0\n",
    "    \n",
    "    for i in build_heights:\n",
    "        if(i > max1):\n",
    "            max1 = i\n",
    "        left_max.append(max1)\n",
    "            \n",
    "    print(\"Max to the Left:\", left_max)\n",
    "    \n",
    "    max2 = 0\n",
    "    for i in range(n-1,-1,-1):\n",
    "        if(build_heights[i] > max2):\n",
    "            max2 = build_heights[i]\n",
    "        right_max.append(max2)\n",
    "    \n",
    "    print(\"Max to the Right:\", right_max)\n",
    "    \n",
    "    water = 0\n",
    "    for i in range(n):\n",
    "        min_among_max = min(left_max[i], right_max[n-1-i])\n",
    "        water = water + (min_among_max - build_heights[i])\n",
    "    \n",
    "    print(water)"
   ]
  },
  {
   "cell_type": "code",
   "execution_count": null,
   "metadata": {},
   "outputs": [],
   "source": []
  }
 ],
 "metadata": {
  "kernelspec": {
   "display_name": "Python 3",
   "language": "python",
   "name": "python3"
  },
  "language_info": {
   "codemirror_mode": {
    "name": "ipython",
    "version": 3
   },
   "file_extension": ".py",
   "mimetype": "text/x-python",
   "name": "python",
   "nbconvert_exporter": "python",
   "pygments_lexer": "ipython3",
   "version": "3.7.4"
  }
 },
 "nbformat": 4,
 "nbformat_minor": 2
}
