{
 "cells": [
  {
   "cell_type": "code",
   "execution_count": 18,
   "metadata": {},
   "outputs": [
    {
     "name": "stdout",
     "output_type": "stream",
     "text": [
      "1\n",
      "Helloeveryone\n",
      "y\n",
      "2\n"
     ]
    }
   ],
   "source": [
    "for _ in range(int(input())):\n",
    "    s = input()\n",
    "    c = input()\n",
    "    i = int(input())\n",
    "    charfoundflag = 0\n",
    "    \n",
    "    if len(s) == 0:\n",
    "        print(\"Empty string\")\n",
    "    \n",
    "    for k in range(len(s)):\n",
    "        if s[k] == c:\n",
    "            charfoundflag = 1\n",
    "            i = i-1\n",
    "            if i == 0:\n",
    "                if k == len(s)-1:\n",
    "                    print(\"Empty string\")\n",
    "                    break\n",
    "                print(s[k+1:])\n",
    "                break\n",
    "    \n",
    "    if k == len(s) & i != 0:\n",
    "        print(\"Empty string\")\n",
    "    \n",
    "    if charfoundflag == 0:\n",
    "        print(s)"
   ]
  },
  {
   "cell_type": "code",
   "execution_count": null,
   "metadata": {},
   "outputs": [],
   "source": []
  }
 ],
 "metadata": {
  "kernelspec": {
   "display_name": "Python 3",
   "language": "python",
   "name": "python3"
  },
  "language_info": {
   "codemirror_mode": {
    "name": "ipython",
    "version": 3
   },
   "file_extension": ".py",
   "mimetype": "text/x-python",
   "name": "python",
   "nbconvert_exporter": "python",
   "pygments_lexer": "ipython3",
   "version": "3.7.4"
  }
 },
 "nbformat": 4,
 "nbformat_minor": 2
}
