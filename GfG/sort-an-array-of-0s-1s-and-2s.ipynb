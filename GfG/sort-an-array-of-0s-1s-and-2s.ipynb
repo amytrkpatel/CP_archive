{
 "cells": [
  {
   "cell_type": "code",
   "execution_count": 3,
   "metadata": {},
   "outputs": [
    {
     "name": "stdout",
     "output_type": "stream",
     "text": [
      "0 0 1 1 2 2\n"
     ]
    }
   ],
   "source": [
    "#Problem Link :> https://practice.geeksforgeeks.org/problems/sort-an-array-of-0s-1s-and-2s4231/1\n",
    "\n",
    "def sort012(a, n):\n",
    "    # Initialize a dictionary with counts for 0, 1, and 2\n",
    "    dct = {0: 0, 1: 0, 2: 0}\n",
    "    \n",
    "    # Count occurrences of each number\n",
    "    for i in a:\n",
    "        dct[i] += 1\n",
    "    \n",
    "    # Update the array 'a' in place based on the counts\n",
    "    index = 0\n",
    "    for key in [0, 1, 2]:\n",
    "        count = dct[key]\n",
    "        while count > 0:\n",
    "            a[index] = key\n",
    "            index += 1\n",
    "            count -= 1\n",
    "    return a\n",
    "\n",
    "# Driver code\n",
    "if __name__ == \"__main__\":\n",
    "    t = int(input())\n",
    "    for _ in range(t):\n",
    "        n = int(input())\n",
    "        a = [int(x) for x in input().split()]\n",
    "        print(*sort012(a, n))"
   ]
  },
  {
   "cell_type": "code",
   "execution_count": null,
   "metadata": {},
   "outputs": [],
   "source": []
  }
 ],
 "metadata": {
  "interpreter": {
   "hash": "f4c3693ebb18fa78c42e3a1be9afb993a6f55de80984e7831f1fa3697fce4a41"
  },
  "kernelspec": {
   "display_name": "Python 3.10.0 64-bit",
   "language": "python",
   "name": "python3"
  },
  "language_info": {
   "codemirror_mode": {
    "name": "ipython",
    "version": 3
   },
   "file_extension": ".py",
   "mimetype": "text/x-python",
   "name": "python",
   "nbconvert_exporter": "python",
   "pygments_lexer": "ipython3",
   "version": "3.11.3"
  },
  "orig_nbformat": 4
 },
 "nbformat": 4,
 "nbformat_minor": 2
}
