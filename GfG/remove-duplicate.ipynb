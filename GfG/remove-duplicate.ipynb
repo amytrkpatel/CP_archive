{
 "cells": [
  {
   "cell_type": "code",
   "execution_count": 7,
   "metadata": {},
   "outputs": [
    {
     "name": "stdout",
     "output_type": "stream",
     "text": [
      "1\n",
      "7\n",
      "1 2 2 3 3 4 5\n",
      "1 2 2 3 3 \n"
     ]
    }
   ],
   "source": [
    "#Your function should return an integer denoting the size of the new list\n",
    "def remove_duplicate(n, arr):\n",
    "    arr = set(arr)\n",
    "    arr = list(arr)\n",
    "    return arr\n",
    "\n",
    "\n",
    "\n",
    "if __name__=='__main__':\n",
    "    t = int(input())\n",
    "    for i in range(t):\n",
    "        n = int(input())\n",
    "        arr = list(map(int, input().strip().split()))\n",
    "        n = remove_duplicate(n, arr)\n",
    "        for i in range(n):\n",
    "            print (arr[i], end=\" \")\n",
    "        print()"
   ]
  },
  {
   "cell_type": "code",
   "execution_count": null,
   "metadata": {},
   "outputs": [],
   "source": []
  }
 ],
 "metadata": {
  "kernelspec": {
   "display_name": "Python 3",
   "language": "python",
   "name": "python3"
  },
  "language_info": {
   "codemirror_mode": {
    "name": "ipython",
    "version": 3
   },
   "file_extension": ".py",
   "mimetype": "text/x-python",
   "name": "python",
   "nbconvert_exporter": "python",
   "pygments_lexer": "ipython3",
   "version": "3.7.4"
  }
 },
 "nbformat": 4,
 "nbformat_minor": 2
}
