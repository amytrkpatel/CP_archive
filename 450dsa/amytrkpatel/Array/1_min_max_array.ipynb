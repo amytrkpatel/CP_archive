{
 "cells": [
  {
   "cell_type": "markdown",
   "metadata": {},
   "source": [
    "### Maximum and minimum of an array using minimum number of comparisons\n",
    "\n",
    "Problem Link :> https://practice.geeksforgeeks.org/problems/find-minimum-and-maximum-element-in-an-array4428/1/"
   ]
  },
  {
   "cell_type": "markdown",
   "metadata": {},
   "source": [
    "#### Method 1: Sort and Fetch\n",
    "Since, we already know the size of array (N), we can simply sort the array in O(nlogn) and can pick the 1st & last element as min-max in O(1) TC. Hence, overall complexity of O(nlogn)."
   ]
  },
  {
   "cell_type": "code",
   "execution_count": 5,
   "metadata": {},
   "outputs": [
    {
     "name": "stdout",
     "output_type": "stream",
     "text": [
      "min: 3\n",
      "max: 87\n"
     ]
    }
   ],
   "source": [
    "if __name__ == \"__main__\":\n",
    "    t = int(input())\n",
    "    while(t>0):\n",
    "        n = int(input())\n",
    "        A = [int(x) for x in input().split()]\n",
    "        A = sorted(A)                           #Sorted() uses tim sort which is O(nlogn) in worst case.\n",
    "\n",
    "        print(\"min: \"+ str(A[0]))\n",
    "        print(\"max: \"+ str(A[n-1]))\n",
    "        t = t-1"
   ]
  },
  {
   "cell_type": "markdown",
   "metadata": {},
   "source": [
    "#### Method 2: Simple Linear Search\n"
   ]
  },
  {
   "cell_type": "code",
   "execution_count": null,
   "metadata": {},
   "outputs": [],
   "source": [
    "def func-name-here(arg):\n",
    "    n = int(input())code-here\n",
    "    for _ in range(n):\n",
    "        x = int(input())\n",
    "        print(x)\n",
    "\n",
    "#Driver code\n",
    "if __name__==\"__main__\":\n",
    "    t = int(input())\n",
    "    while(t>0):\n",
    "        arg = input()\n",
    "        print(func-name-here(arg))\n",
    "        t = t-1"
   ]
  }
 ],
 "metadata": {
  "interpreter": {
   "hash": "cef9e06bb236b2a8629b07e87a04b187b952a0f661eff5533360a155783f0c33"
  },
  "kernelspec": {
   "display_name": "Python 3.8.5 64-bit ('base': conda)",
   "language": "python",
   "name": "python3"
  },
  "language_info": {
   "codemirror_mode": {
    "name": "ipython",
    "version": 3
   },
   "file_extension": ".py",
   "mimetype": "text/x-python",
   "name": "python",
   "nbconvert_exporter": "python",
   "pygments_lexer": "ipython3",
   "version": "3.8.5"
  },
  "orig_nbformat": 4
 },
 "nbformat": 4,
 "nbformat_minor": 2
}
