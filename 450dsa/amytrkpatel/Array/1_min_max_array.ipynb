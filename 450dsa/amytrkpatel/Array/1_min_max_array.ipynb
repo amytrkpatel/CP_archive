{
 "cells": [
  {
   "cell_type": "markdown",
   "metadata": {},
   "source": [
    "Problem Link :> https://www.geeksforgeeks.org/maximum-and-minimum-in-an-array/\n",
    "\n",
    "# Maximum and minimum of an array using minimum number of comparisons"
   ]
  },
  {
   "cell_type": "markdown",
   "metadata": {},
   "source": [
    "## Method 1: Simple Linear Search"
   ]
  },
  {
   "cell_type": "code",
   "execution_count": null,
   "metadata": {},
   "outputs": [],
   "source": [
    "def func-name-here(arg):\n",
    "    n = int(input())code-here\n",
    "    for _ in range(n):\n",
    "        x = int(input())\n",
    "        print(x)\n",
    "\n",
    "#Driver code\n",
    "if __name__==\"__main__\":\n",
    "    t = int(input())\n",
    "    while(t>0):\n",
    "        arg = input()\n",
    "        print(func-name-here(arg))\n",
    "        t = t-1"
   ]
  }
 ],
 "metadata": {
  "language_info": {
   "name": "python"
  },
  "orig_nbformat": 4
 },
 "nbformat": 4,
 "nbformat_minor": 2
}
