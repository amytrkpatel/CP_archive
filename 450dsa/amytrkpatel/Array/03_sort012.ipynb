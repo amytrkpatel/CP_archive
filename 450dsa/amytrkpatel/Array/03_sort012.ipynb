{
 "cells": [
  {
   "cell_type": "markdown",
   "metadata": {},
   "source": [
    "### Method 1: (Wrong)\n",
    "The first approach I get in mind is using a Dictionary. this way we can use an extra space and with the help of Dictionary we can simply print 0, 1, 2 keys as the nuymber of times they occur in a list. But the Problem with this approach is dictionary is created unorderedly, So, if the first element is 1, it will take first key as 1. and when printing our result it will not give a sorted array.\n"
   ]
  },
  {
   "cell_type": "code",
   "execution_count": 18,
   "metadata": {},
   "outputs": [
    {
     "name": "stdout",
     "output_type": "stream",
     "text": [
      "1 1 0 0 2\n"
     ]
    }
   ],
   "source": [
    "#Problem Link :> https://practice.geeksforgeeks.org/problems/sort-an-array-of-0s-1s-and-2s4231/1\n",
    "\n",
    "def sort012(a,n):\n",
    "    dct = {a[i]:0 for i in range(0, n)}       #initialising Dictionary\n",
    "    for i in a:\n",
    "        dct[i] += 1\n",
    "    b = []\n",
    "    for key, value in dct.items():\n",
    "        i = 0\n",
    "        while value:\n",
    "            b.append(key)\n",
    "            value -= 1\n",
    "    return b\n",
    "\n",
    "#Driver code\n",
    "if __name__==\"__main__\":\n",
    "    t = int(input())\n",
    "    for _ in range(t):\n",
    "        n = int(input())\n",
    "        a = [int(x) for x in input().split()]\n",
    "        print(*sort012(a,n))\n"
   ]
  }
 ],
 "metadata": {
  "interpreter": {
   "hash": "f4c3693ebb18fa78c42e3a1be9afb993a6f55de80984e7831f1fa3697fce4a41"
  },
  "kernelspec": {
   "display_name": "Python 3.10.0 64-bit",
   "language": "python",
   "name": "python3"
  },
  "language_info": {
   "codemirror_mode": {
    "name": "ipython",
    "version": 3
   },
   "file_extension": ".py",
   "mimetype": "text/x-python",
   "name": "python",
   "nbconvert_exporter": "python",
   "pygments_lexer": "ipython3",
   "version": "3.9.1"
  },
  "orig_nbformat": 4
 },
 "nbformat": 4,
 "nbformat_minor": 2
}
