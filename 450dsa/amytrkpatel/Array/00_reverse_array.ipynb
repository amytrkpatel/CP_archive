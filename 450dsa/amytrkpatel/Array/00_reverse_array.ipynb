{
 "cells": [
  {
   "cell_type": "markdown",
   "metadata": {},
   "source": [
    "#### Method 1:\n",
    "Problem Link :> https://www.geeksforgeeks.org/write-a-program-to-reverse-an-array-or-string/\n",
    "\n",
    "\n",
    "For a comparatively large list, under time constraints, it seems that the reversed() function performs faster than the slicing method. This is because reversed() just returns an iterator that iterates the original list in reverse order, without copying anything whereas slicing creates an entirely new list, copying every element from the original list. For a list with 10^6 Values, the reversed() performs almost 20,000 better than the slicing method. If there is a need to store the reverse copy of data then slicing can be used but if one only wants to iterate the list in reverse manner, reversed() is definitely the better option.\n",
    "\n",
    "OPTIMAL CODE:\n",
    "\n",
    "ls = reversed(ls)\n",
    "print('Iterator object :', ls)\n",
    "for element in ls:\n",
    "    print(element)\n"
   ]
  },
  {
   "cell_type": "code",
   "execution_count": null,
   "metadata": {},
   "outputs": [],
   "source": [
    "def reverseWord(s):\n",
    "    print(s[::-1])\n",
    "\n",
    "\n",
    "# Driver code\n",
    "if __name__ == \"__main__\":\n",
    "    t = int(input())\n",
    "    while(t > 0):\n",
    "        s = input()\n",
    "        reverseWord(s)\n",
    "        t = t-1"
   ]
  }
 ],
 "metadata": {
  "language_info": {
   "name": "python"
  },
  "orig_nbformat": 4
 },
 "nbformat": 4,
 "nbformat_minor": 2
}
