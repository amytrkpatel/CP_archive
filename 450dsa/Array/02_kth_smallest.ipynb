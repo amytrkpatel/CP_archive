{
 "cells": [
  {
   "cell_type": "markdown",
   "metadata": {},
   "source": [
    "Problem Link :> https://practice.geeksforgeeks.org/problems/kth-smallest-element5635/1"
   ]
  },
  {
   "cell_type": "markdown",
   "metadata": {},
   "source": [
    "### Method 1\n",
    "The first approach seems to be sort the array with O(nlogn) time complexity and then fetch the kth element."
   ]
  },
  {
   "cell_type": "code",
   "execution_count": null,
   "metadata": {},
   "outputs": [],
   "source": [
    "def Kelement(a, k):\n",
    "    a = sorted(a)\n",
    "    kth = a[k-1]\n",
    "    return kth\n",
    "\n",
    "\n",
    "# Driver code\n",
    "if __name__ == \"__main__\":\n",
    "    t = int(input())\n",
    "    while(t > 0):\n",
    "        n = int(input())\n",
    "        a = [int(x) for x in input().split()]\n",
    "        k = int(input())\n",
    "        print(Kelement(a, k))\n",
    "        t = t-1"
   ]
  }
 ],
 "metadata": {
  "language_info": {
   "name": "python"
  },
  "orig_nbformat": 4
 },
 "nbformat": 4,
 "nbformat_minor": 2
}
